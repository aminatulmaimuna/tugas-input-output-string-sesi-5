{
 "cells": [
  {
   "cell_type": "markdown",
   "id": "2ea48472",
   "metadata": {},
   "source": [
    "<h1>Biodata<h1>"
   ]
  },
  {
   "cell_type": "code",
   "execution_count": 7,
   "id": "f83bc7ba",
   "metadata": {},
   "outputs": [
    {
     "name": "stdout",
     "output_type": "stream",
     "text": [
      "insert your name : aminatul maimunah al amalah \n",
      "insert your birthday :25/05/2005\n",
      "insert your major :informatics engineering\n",
      "insert your campus :nusa putra university sukabumi\n",
      "Name : aminatul maimunah al amalah \n",
      "Date : 25\n",
      "Month : 05\n",
      "Year : 2005\n",
      "Major : informatics engineering\n",
      "Campus : nusa putra university sukabumi\n",
      "Initial : am\n"
     ]
    }
   ],
   "source": [
    "name = input(\"insert your name : \")\n",
    "birthday = input(\"insert your birthday :\")\n",
    "major = input(\"insert your major :\")\n",
    "campus = input(\"insert your campus :\")\n",
    "\n",
    "birth = birthday.split('/')\n",
    "initial = name.split()\n",
    "\n",
    "print(f\"Name : {name}\")\n",
    "print(f\"Date : {birth[0]}\")\n",
    "print(f\"Month : {birth[1]}\")\n",
    "print(f\"Year : {birth[2]}\")\n",
    "print(f\"Major : {major}\")\n",
    "print(f\"Campus : {campus}\")\n",
    "print(f\"Initial : {initial[0][0]}{initial[1][0]}\")\n",
    "\n"
   ]
  },
  {
   "cell_type": "markdown",
   "id": "83d208b5",
   "metadata": {},
   "source": [
    "<H1>2.jika terdapat kalimat UNIVERSITAS NUSA PUTRA SUKABUMI, buatlah kode program untuk menampilkan output:\n",
    "    \n",
    "    a. putra nusa\n",
    "    \n",
    "    \n",
    "    b.NIVERSITAS NSA PTRA SKBMI\n",
    "    \n",
    "    C.SUKABUMI PUTRA NUSA UNIVERSITAS\n",
    "    \n",
    "    D.TAS SAPU BUMI<H1>"
   ]
  },
  {
   "cell_type": "code",
   "execution_count": 12,
   "id": "6715b4d7",
   "metadata": {},
   "outputs": [
    {
     "name": "stdout",
     "output_type": "stream",
     "text": [
      "JAWABAN OPTION A : putra nusa\n",
      "JAWABAN OPTION B : NIVERSITAS NSA PTRA  SUKABUMI\n",
      "JAWABAN OPTION C : SUKABUMI PUTRA NUSA UNIVERSITAS\n",
      "JAWABAN OPTION D : UNPS\n",
      "JAWABAN OPTION E : TAS SAPU BUMI\n"
     ]
    }
   ],
   "source": [
    "judul = \"UNIVERSITAS NUSA PUTRA SUKABUMI\"\n",
    "\n",
    "a = judul[17:22].lower()+' '+judul[12:16].lower()\n",
    "b = judul[1:11]+' '+judul[12]+judul[14:16]+' '+judul[17]+judul[19:22]+' '+judul[22:31].upper()\n",
    "c = judul[23:31]+' '+judul[17:22]+' '+judul[12:16]+' '+judul[0:11].upper()\n",
    "d = judul[0]+judul[12]+judul[17]+judul[23].upper()\n",
    "e = judul[8:11]+' '+judul[14:16]+judul[17:19]+' '+judul[27:31].upper()\n",
    "\n",
    "print(\"JAWABAN OPTION A :\", a)\n",
    "print(\"JAWABAN OPTION B :\", b)\n",
    "print(\"JAWABAN OPTION C :\", c)\n",
    "print(\"JAWABAN OPTION D :\", d)\n",
    "print(\"JAWABAN OPTION E :\", e)"
   ]
  }
 ],
 "metadata": {
  "kernelspec": {
   "display_name": "Python 3 (ipykernel)",
   "language": "python",
   "name": "python3"
  },
  "language_info": {
   "codemirror_mode": {
    "name": "ipython",
    "version": 3
   },
   "file_extension": ".py",
   "mimetype": "text/x-python",
   "name": "python",
   "nbconvert_exporter": "python",
   "pygments_lexer": "ipython3",
   "version": "3.9.12"
  }
 },
 "nbformat": 4,
 "nbformat_minor": 5
}
